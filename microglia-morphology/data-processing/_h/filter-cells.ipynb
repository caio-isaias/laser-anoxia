{
 "cells": [
  {
   "cell_type": "markdown",
   "id": "b3e265c8-2c5f-4851-b5e6-6a04c9c09829",
   "metadata": {},
   "source": [
    "### Filter cells"
   ]
  },
  {
   "cell_type": "markdown",
   "id": "faebcdd7-75b9-4ccf-a89d-54295ad45337",
   "metadata": {},
   "source": [
    "Here we will filter, in the data table, microglias that werent in hipocampus but in adjacencies, as corpus callosus. "
   ]
  },
  {
   "cell_type": "markdown",
   "id": "87ba9c70-e0d6-4a63-8c69-3176aa97d16a",
   "metadata": {},
   "source": [
    "#### Import data"
   ]
  },
  {
   "cell_type": "code",
   "execution_count": 1,
   "id": "760633a7-fa5a-458a-a872-36ade27040f8",
   "metadata": {},
   "outputs": [],
   "source": [
    "data <- read.csv(\"~/Documents/jupyter-workplace/laser-anoxia/microglia-morphology/data-processing/_m/features_data.csv\")"
   ]
  },
  {
   "cell_type": "markdown",
   "id": "4862d942-51c8-432f-93b7-5385ede8e98a",
   "metadata": {},
   "source": [
    "#### Get cell index function"
   ]
  },
  {
   "cell_type": "code",
   "execution_count": 2,
   "id": "b3a7f539-602d-40e6-a232-b968e2ed7ed3",
   "metadata": {},
   "outputs": [],
   "source": [
    "# get the position of the cells in the data frame\n",
    "get.cell.index <- function(animal,slice,id,data, region = \"CA3\"){\n",
    "  if(length(id) == 1){\n",
    "  # first cell from that slice <- min(which(animal,slice))\n",
    "  first.cell <- min(which(data[,1] == animal &\n",
    "                          data[,2] == slice &\n",
    "                          data[,4] == region))\n",
    "  # index <- first cell from that slice + (id - 1)\n",
    "  index <- first.cell + (id -1)\n",
    "  return(index)\n",
    "  }\n",
    "  else{\n",
    "    index <- c(rep(0,length(id))) # initialize index vector\n",
    "    for(i in 1:length(id)){\n",
    "        first.cell <- min(which(as.character(data[,1]) == as.character(animal[i]) &\n",
    "                                data[,2] == slice[i] &\n",
    "                                data[,4] == region))\n",
    "        index[i] <- first.cell + (id[i] -1)\n",
    "    }\n",
    "    return(index)\n",
    "  }\n",
    "}\n",
    "\n",
    "# silence function\n",
    "shhh <- function(x){\n",
    "    suppressPackageStartupMessages(suppressWarnings(x))\n",
    "    }"
   ]
  },
  {
   "cell_type": "markdown",
   "id": "eb0aab43-6da7-457d-9235-762fe5eef837",
   "metadata": {},
   "source": [
    "#### Filter"
   ]
  },
  {
   "cell_type": "markdown",
   "id": "95d29d0c-61d3-424d-9338-57e6c973434a",
   "metadata": {},
   "source": [
    "As we didn't find a relevant amount of cells from outside hippocampus in previous analysis (reference). We identified and selected to filter here only those cells from CA3, as a region of interest with important results."
   ]
  },
  {
   "cell_type": "code",
   "execution_count": 6,
   "id": "e71dfefe-f095-4246-bf88-9695721ae621",
   "metadata": {},
   "outputs": [],
   "source": [
    "shhh(library(tidyverse))\n",
    "\n",
    "# Cells to filter\n",
    "AL <- data.frame(animal = c(rep(\"AL1\", 7),rep(\"AL2\",10),rep(\"AL4\",4)),\n",
    "                  slice = c(rep(3,14),rep(4,3),rep(3,4)),\n",
    "                   cell = c(c(3,5,6,9,12,14,15),\n",
    "                            c(4,5,7,8,9,11,14),\n",
    "                            c(6,7,15),\n",
    "                            c(5,6,7,8)))\n",
    "\n",
    "AS <- data.frame(animal = c(rep(\"AS3\", 3),rep(\"AS3\",2)),\n",
    "                  slice = c(rep(3,3),rep(4,2)),\n",
    "                   cell = c(c(7,8,9),\n",
    "                            c(1,2)))\n",
    "\n",
    "CS <- data.frame(animal = c(rep(\"CS2\", 12),rep(\"CS4\",2),rep(\"CS5\",2)),\n",
    "                  slice = c(rep(3,12),rep(4,2),rep(3,2)),\n",
    "                   cell = c(c(3,4,5,7,8,9,10,11,12,13,14,15),\n",
    "                            c(6,11),\n",
    "                            c(9,12)))\n",
    "\n",
    "# Index of cells to filter\n",
    "cells.to.filter <- c(get.cell.index(AL$animal,AL$slice,AL$cell,data),\n",
    "                     get.cell.index(AS$animal,AS$slice,AS$cell,data),\n",
    "                     get.cell.index(CS$animal,CS$slice,CS$cell,data))\n",
    "\n",
    "id.to.remove <- data.frame(id = cells.to.filter)\n",
    "\n",
    "write.csv(id.to.remove,\"id-to-remove-ca3.csv\")\n",
    "\n",
    "outside.cells <- data[cells.to.filter,]\n",
    "\n",
    "rm(CS,AS,AL)"
   ]
  },
  {
   "cell_type": "code",
   "execution_count": null,
   "id": "184c9db0-f5e4-49e7-8f15-23c2d6e2ebf5",
   "metadata": {},
   "outputs": [],
   "source": [
    "cells.to.filter"
   ]
  }
 ],
 "metadata": {
  "kernelspec": {
   "display_name": "R",
   "language": "R",
   "name": "ir"
  },
  "language_info": {
   "codemirror_mode": "r",
   "file_extension": ".r",
   "mimetype": "text/x-r-source",
   "name": "R",
   "pygments_lexer": "r",
   "version": "3.6.1"
  }
 },
 "nbformat": 4,
 "nbformat_minor": 5
}
