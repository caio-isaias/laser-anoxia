{
 "cells": [
  {
   "cell_type": "markdown",
   "id": "0d00fbaa",
   "metadata": {},
   "source": [
    "This document contain all the relevant scripts used for **processing the raw data** acquired in `get_data`, producing **usable and formated tables**."
   ]
  },
  {
   "cell_type": "code",
   "execution_count": 1,
   "id": "5baeae43",
   "metadata": {},
   "outputs": [
    {
     "name": "stdout",
     "output_type": "stream",
     "text": [
      "Available Themes: \r\n",
      "   chesterish\r\n",
      "   grade3\r\n",
      "   gruvboxd\r\n",
      "   gruvboxl\r\n",
      "   monokai\r\n",
      "   oceans16\r\n",
      "   onedork\r\n",
      "   solarizedd\r\n",
      "   solarizedl\r\n"
     ]
    }
   ],
   "source": [
    "!jt -l"
   ]
  },
  {
   "cell_type": "code",
   "execution_count": 7,
   "id": "32822f19",
   "metadata": {},
   "outputs": [],
   "source": [
    "library(tidyverse);\n",
    "\n",
    "setwd(\"~/Documents/jupyter-workplace/laser-anoxia/\") # geting raw folder\n",
    "load(\"raw/list_skeleton.rdata\")\n",
    "skeleton.data     <- x\n",
    "load(\"raw/list_branches_info.rdata\")\n",
    "branche.info.data <- x\n",
    "load(\"raw/list_hull.rdata\")\n",
    "hull.data         <- x\n",
    "load(\"raw/list_measures.rdata\")\n",
    "measure.data      <- x\n",
    "load(\"raw/list_frac.rdata\")\n",
    "frac.data         <- x\n",
    "\n",
    "# returning to current folder\n",
    "setwd(\"~/Documents/jupyter-workplace/laser-anoxia/microglia-morphology/data-processing/\") \n",
    "rm(x)"
   ]
  },
  {
   "cell_type": "markdown",
   "id": "c71a4ba2",
   "metadata": {},
   "source": [
    "### Skeleton Data"
   ]
  },
  {
   "cell_type": "code",
   "execution_count": 2,
   "id": "5cfa2170",
   "metadata": {},
   "outputs": [],
   "source": [
    "# formating columns for the info slice data-frame (15 cells)\n",
    "# (information about the origin of the cell data)\n",
    "Grupo  <- vector(length = 15)  # $group\n",
    "Animal <- vector(length = 15)  # $animal\n",
    "Region <- vector(length = 15)  # $region\n",
    "Corte  <- vector(length = 15)  # $slice\n",
    "\n",
    "#checking if there is more, or less, than 15 cells in the slice (checking for errors)\n",
    "for(i in seq_along(skeleton.data)){\n",
    "  if(15 %in% attributes(skeleton.data[[i]])$row.names != TRUE){print(i)} \n",
    "}\n",
    "\n",
    "# build data-frames\n",
    "for(i in seq_along(skeleton.data)){\n",
    "  for(cell in 1:15){ # adding info for each cell \n",
    "    Grupo[cell]  <- attributes(skeleton.data[[i]])$group\n",
    "    Animal[cell] <- attributes(skeleton.data[[i]])$animal\n",
    "    Region[cell] <- attributes(skeleton.data[[i]])$region\n",
    "    Corte[cell]  <- attributes(skeleton.data[[i]])$slice\n",
    "  }\n",
    "  # creating a list with dataframes for each slice (group of 15 cells)\n",
    "  skeleton.data[[i]] <- cbind(Animal, Corte, Grupo, Region, skeleton.data[[i]])\n",
    "  skeleton.data[[i]] <- skeleton.data[[i]] %>% select(- X) # removing unwanted parameter\n",
    "}\n",
    "\n",
    "# column names\n",
    "cnames <- c(\"Animal\",\"Corte\",\"Grupo\", \"Region\",\"Branches\",\"Junctions\",\n",
    "            \"End.point.voxels\",\"Juncction.voxels\",\"Slab.voxels\",\n",
    "            \"Average.branch.length\",\"Triple.points\",\"Quadruple.points\",\n",
    "            \"Maximum.branch.length\")\n",
    "\n",
    "# head of the complete dataframe \n",
    "data <- skeleton.data[[1]]\n",
    "\n",
    "for(i in 2:192){ # connecting by row all the data\n",
    "  data <- rbind(data,skeleton.data[[i]])\n",
    "}\n",
    "skeleton.data <- data\n",
    "colnames(skeleton.data) <- cnames # adding colnames\n",
    "\n",
    "#saving dataframe\n",
    "write_csv(skeleton.data,\"skeleton-data.csv\")"
   ]
  },
  {
   "cell_type": "markdown",
   "id": "56870603",
   "metadata": {},
   "source": [
    "### Hull & Circularity Data"
   ]
  },
  {
   "cell_type": "code",
   "execution_count": 3,
   "id": "0893645f",
   "metadata": {},
   "outputs": [],
   "source": [
    "Grupo <- vector(length = 15)  # $group\n",
    "Animal <- vector(length = 15) # $animal\n",
    "Region <- vector(length = 15) # $region\n",
    "Corte <- vector(length = 15)  # $slice\n",
    "\n",
    "for(i in seq_along(hull.data)){ # checking errors\n",
    "  if(15 %in% attributes(hull.data[[i]])$row.names != TRUE){print(i)}\n",
    "  }\n",
    "\n",
    "for(i in seq_along(hull.data)){\n",
    "  for(cell in 1:15){\n",
    "    Grupo[cell]  <- attributes(hull.data[[i]])$group\n",
    "    Animal[cell] <- attributes(hull.data[[i]])$animal\n",
    "    Region[cell] <- attributes(hull.data[[i]])$region\n",
    "    Corte[cell]  <- attributes(hull.data[[i]])$slice\n",
    "  }\n",
    "  # removing unwanted variables/columns\n",
    "  hull.data[[i]] <- hull.data[[i]] %>% select(-V1,-V2,-V4,-V7,-V8,-V19,-V20)\n",
    "  hull.data[[i]] <- cbind(Animal, Corte, Grupo, Region, hull.data[[i]])\n",
    "}\n",
    "\n",
    "c.names <- c(\"Animal\",\"Corte\",\"Grupo\",\"Region\",\"Mean Foreground Pixels\",\n",
    "             \"Density = Foreground Pixels/Hull Area\",\"Span Ratio\",\n",
    "             \"Maximum Span Across Hull\",\"Area\",\"Perimeter\",\"Circularity\",\n",
    "             \"Width of Bounding Rectangle\",\"Height of Bounding Rectangle\",\n",
    "             \"Maximum Radius from Hull's Centre of Mass\",\"Max/Min Radii\",\n",
    "             \"CV for all Radii\",\"Mean Radius\",\"Diameter of Bounding Circle\",\n",
    "             \"Maximum Radius from Circle's Centre\",\"Max/Min Radii from Circle Centre\",\n",
    "             \"CV for all Radii from Circle's Centre\",\"Mean Radius from Circle's Centre\",\n",
    "             \"Method Used to Calculate Circle\")\n",
    "\n",
    "# formating the dataframe\n",
    "data <- t(tibble(R1 = 1:23)) # first row reference to build a formated dataframe\n",
    "colnames(data) <- c.names\n",
    "\n",
    "for(i in seq_along(hull.data)){\n",
    "  colnames(hull.data[[i]]) <- c.names\n",
    "  data <- rbind(data,hull.data[[i]])\n",
    "}\n",
    "\n",
    "hull.data <- data[-1,] # removing the firsrow reference\n",
    "write_csv(hull.data,\"hull-data.csv\")"
   ]
  },
  {
   "cell_type": "markdown",
   "id": "868b94b5",
   "metadata": {},
   "source": [
    "### Cell Measures Data"
   ]
  },
  {
   "cell_type": "code",
   "execution_count": 4,
   "id": "a143d81e",
   "metadata": {},
   "outputs": [
    {
     "data": {
      "text/html": [
       "TRUE"
      ],
      "text/latex": [
       "TRUE"
      ],
      "text/markdown": [
       "TRUE"
      ],
      "text/plain": [
       "[1] TRUE"
      ]
     },
     "metadata": {},
     "output_type": "display_data"
    }
   ],
   "source": [
    "library(tidyverse)\n",
    "\n",
    "Grupo  <- vector(length = 15)  # $group\n",
    "Animal <- vector(length = 15)  # $animal\n",
    "Region <- vector(length = 15)  # $region\n",
    "Corte  <- vector(length = 15)  # $slice\n",
    "\n",
    "for(i in seq_along(measure.data)){ # checking errors\n",
    "  if(15 %in% attributes(measure.data[[i]])$row.names != TRUE){print(i)}\n",
    "  }\n",
    "\n",
    "for(i in seq_along(measure.data)){\n",
    "  for(cell in 1:15){ # para cada tabela\n",
    "    Grupo[cell]  <- attributes(measure.data[[i]])$group\n",
    "    Animal[cell] <- attributes(measure.data[[i]])$animal\n",
    "    Region[cell] <- attributes(measure.data[[i]])$region\n",
    "    Corte[cell]  <- attributes(measure.data[[i]])$slice\n",
    "  }\n",
    "  # removing unwanted variables/columns\n",
    "  measure.data[[i]] <- cbind(Animal, Corte, Grupo, Region, measure.data[[i]])\n",
    "  measure.data[[i]] <- measure.data[[i]] %>% select(- X.1, - Label)\n",
    "}\n",
    "\n",
    "# formating the dataframe\n",
    "\n",
    "# first row reference to build a formated dataframe\n",
    "# data: model for rbind\n",
    "data <- tibble(Animal = 0,Corte =  0, Grupo = 0, Region = 0, Area = 0, \n",
    "               X = 0, Y = 0, XM = 0, YM = 0, Perim. = 0, Major = 0, \n",
    "               Minor = 0, Angle = 0, Circ. = 0, AR = 0, Round = 0, \n",
    "               Solidity = 0)\n",
    "\n",
    "# check if columns are compatible\n",
    "identical(colnames(measure.data[[1]]),colnames(data))\n",
    "\n",
    "for(i in seq_along(measure.data)){ # connecting data by row\n",
    "  data <- rbind(data,measure.data[[i]])\n",
    "}\n",
    "\n",
    "measure.data = data[-1,]\n",
    "#saving dataframe\n",
    "write_csv(measure.data,\"measure-data.csv\")"
   ]
  },
  {
   "cell_type": "markdown",
   "id": "fef69883",
   "metadata": {},
   "source": [
    "### Fractal and Lacunarity"
   ]
  },
  {
   "cell_type": "code",
   "execution_count": 5,
   "id": "7e50c007",
   "metadata": {},
   "outputs": [],
   "source": [
    "Grupo <- vector(length = 15)  # $group\n",
    "Animal <- vector(length = 15) # $animal\n",
    "Region <- vector(length = 15) # $region\n",
    "Corte <- vector(length = 15)  # $slice\n",
    "\n",
    "for(i in 1:192){ # selecting the correct row in the raw data\n",
    "  frac.data[[i]] <- frac.data[[i]][c(seq(2,45,by=3)),]\n",
    "}\n",
    "\n",
    "for(i in 1:192){\n",
    "  for(cell in 1:15){\n",
    "    Grupo[cell] <- attributes(frac.data[[i]])$group\n",
    "    Animal[cell] <- attributes(frac.data[[i]])$animal\n",
    "    Region[cell] <- attributes(frac.data[[i]])$region\n",
    "    Corte[cell] <- attributes(frac.data[[i]])$slice\n",
    "  }\n",
    "  # selecting the correct columns/variables\n",
    "  frac.data[[i]] <- frac.data[[i]] %>% select(V10,V15,V20)\n",
    "  frac.data[[i]] <- cbind(Animal, Corte, Grupo, Region, frac.data[[i]])\n",
    "}\n",
    "\n",
    "cnames <- c(\"Animal\",\"Corte\",\"Grupo\",\"Region\",\"D\",\"D.max(r²)\",\"Lacunarity\")\n",
    "\n",
    "data <- frac.data[[1]] # head of the dataframe\n",
    "for(i in 2:192){ # connecting by row\n",
    "  data <- rbind(data,frac.data[[i]])\n",
    "}\n",
    "\n",
    "frac.data <- data\n",
    "colnames(frac.data) <- cnames\n",
    "#saving dataframe\n",
    "write_csv(frac.data,\"frac-data.csv\")"
   ]
  },
  {
   "cell_type": "markdown",
   "id": "23184571",
   "metadata": {},
   "source": [
    "### Final data-frame\n",
    "\n",
    "**integrate all** in one dataframe."
   ]
  },
  {
   "cell_type": "code",
   "execution_count": 34,
   "id": "c2ede2af",
   "metadata": {},
   "outputs": [],
   "source": [
    "library(tidyverse)\n",
    "\n",
    "setwd(\"~/Documents/jupyter-workplace/laser-anoxia/microglia-morphology/data-processing/_m\")\n",
    "\n",
    "measure.data    <- read.csv(\"measure-data.csv\")\n",
    "hull.data       <- read.csv(\"hull-data.csv\")\n",
    "skeleton.data   <- read.csv(\"skeleton-data.csv\")\n",
    "frac.data       <- read.csv(\"frac-data.csv\")\n",
    "\n",
    "# MEASURE DATA\n",
    "measure.data <- measure.data %>% filter(Grupo != \"CL\") %>% # we wont use CL experimental group\n",
    "                 select(Area,Perim., Solidity,Round, Circ.)\n",
    "colnames(measure.data) <- c(\"Cell.Area\",\"Cell.Perimeter\",\n",
    "                             \"Solidity\",\"Round\",\"Circularity\")\n",
    "# HULL & CIRCULARITY\n",
    "hull.data <- hull.data %>% filter(Grupo != \"CL\") %>% \n",
    "    select(Animal,Corte,Grupo,Region,\n",
    "           Density...Foreground.Pixels.Hull.Area,Area,\n",
    "           Diameter.of.Bounding.Circle,\n",
    "           Mean.Radius.from.Circle.s.Centre)\n",
    "colnames(hull.data) <- c(\"Animal\",\"Corte\",\"Grupo\",\"Region\",\n",
    "                         \"Foreground.pixels.by.hull.area\",\n",
    "                         \"Hull.Area\",\"Diameter.of.Bounding.Circle\",\n",
    "                         \"Mean.Radius\")\n",
    "\n",
    "\n",
    "# subtract cell area from hull area and generate a new variable: Hull void area\n",
    "hull.and.measure.data <- cbind(hull.data,measure.data) %>%\n",
    "                            mutate(Hull.void.area = Hull.Area - Cell.Area)\n",
    "\n",
    "# FRAC & LAC\n",
    "frac.data <- frac.data %>%  \n",
    "    filter(Grupo != \"CL\") %>% \n",
    "    mutate_at(vars(D,Lacunarity), as.numeric) %>%\n",
    "    select(D,Lacunarity)\n",
    "colnames(frac.data) <- c(\"D\",\"Lacunarity\")\n",
    "\n",
    "# SKELETON\n",
    "skeleton.data <- skeleton.data %>% \n",
    "    filter(Grupo != \"CL\") %>%  \n",
    "    select(Branches,Junctions,End.point.voxels,Triple.points,\n",
    "           Quadruple.points,Average.branch.length, Maximum.branch.length)\n",
    "\n",
    "# integrate\n",
    "data       <- cbind(hull.and.measure.data,skeleton.data,frac.data) \n",
    "Grupos     <- as.vector(data$Grupo)\n",
    "data$Grupo <- factor(Grupos, levels = c(\"CS\",\"AS\",\"AL\")) # rearranging groups\n",
    "\n",
    "# export complete data-frame\n",
    "write_csv(data,\"features_data.csv\")\n",
    "\n",
    "rm(hull.data,measure.data,skeleton.data,frac.data,hull.and.measure.data,Grupos)"
   ]
  },
  {
   "cell_type": "markdown",
   "id": "336a5d0b",
   "metadata": {},
   "source": [
    "A *quick peek* on the data and **parameters selected**."
   ]
  },
  {
   "cell_type": "code",
   "execution_count": 35,
   "id": "1cf488fb",
   "metadata": {
    "scrolled": true
   },
   "outputs": [
    {
     "data": {
      "text/html": [
       "<table>\n",
       "<thead><tr><th scope=col>Animal</th><th scope=col>Corte</th><th scope=col>Grupo</th><th scope=col>Region</th><th scope=col>Foreground.pixels.by.hull.area</th><th scope=col>Hull.Area</th><th scope=col>Diameter.of.Bounding.Circle</th><th scope=col>Mean.Radius</th><th scope=col>Cell.Area</th><th scope=col>Cell.Perimeter</th><th scope=col>...</th><th scope=col>Hull.void.area</th><th scope=col>Branches</th><th scope=col>Junctions</th><th scope=col>End.point.voxels</th><th scope=col>Triple.points</th><th scope=col>Quadruple.points</th><th scope=col>Average.branch.length</th><th scope=col>Maximum.branch.length</th><th scope=col>D</th><th scope=col>Lacunarity</th></tr></thead>\n",
       "<tbody>\n",
       "\t<tr><td>CS2     </td><td>1       </td><td>CS      </td><td>CA1     </td><td>0.5968  </td><td>2282    </td><td> 74.9667</td><td>31.5814 </td><td>1362    </td><td>344.416 </td><td>...     </td><td> 920    </td><td>15      </td><td> 7      </td><td> 9      </td><td> 7      </td><td>0       </td><td>13.283  </td><td>29.556  </td><td>1140    </td><td> 801    </td></tr>\n",
       "\t<tr><td>CS2     </td><td>1       </td><td>CS      </td><td>CA1     </td><td>0.8191  </td><td> 376    </td><td> 32.8571</td><td>14.7844 </td><td> 308    </td><td> 91.983 </td><td>...     </td><td>  68    </td><td> 3      </td><td> 1      </td><td> 3      </td><td> 1      </td><td>0       </td><td>13.876  </td><td>22.142  </td><td>  41    </td><td>1246    </td></tr>\n",
       "\t<tr><td>CS2     </td><td>1       </td><td>CS      </td><td>CA1     </td><td>0.4057  </td><td>2036    </td><td> 78.4092</td><td>32.8051 </td><td> 826    </td><td>246.635 </td><td>...     </td><td>1210    </td><td> 7      </td><td> 3      </td><td> 5      </td><td> 3      </td><td>0       </td><td>17.840  </td><td>34.627  </td><td>  87    </td><td>1271    </td></tr>\n",
       "\t<tr><td>CS2     </td><td>1       </td><td>CS      </td><td>CA1     </td><td>0.4576  </td><td>2380    </td><td> 69.3097</td><td>30.9999 </td><td>1089    </td><td>341.061 </td><td>...     </td><td>1291    </td><td>20      </td><td>11      </td><td> 7      </td><td>11      </td><td>0       </td><td>10.674  </td><td>27.385  </td><td> 429    </td><td>1659    </td></tr>\n",
       "\t<tr><td>CS2     </td><td>1       </td><td>CS      </td><td>CA1     </td><td>0.4241  </td><td>2457    </td><td> 70.9627</td><td>32.7330 </td><td>1042    </td><td>371.588 </td><td>...     </td><td>1415    </td><td>18      </td><td> 9      </td><td> 9      </td><td> 9      </td><td>0       </td><td>12.222  </td><td>20.071  </td><td> 585    </td><td>1452    </td></tr>\n",
       "\t<tr><td>CS2     </td><td>1       </td><td>CS      </td><td>CA1     </td><td>0.2993  </td><td>5362    </td><td>119.4364</td><td>50.7948 </td><td>1605    </td><td>709.720 </td><td>...     </td><td>3757    </td><td>40      </td><td>19      </td><td>20      </td><td>17      </td><td>1       </td><td>10.588  </td><td>31.799  </td><td> 538    </td><td>1596    </td></tr>\n",
       "</tbody>\n",
       "</table>\n"
      ],
      "text/latex": [
       "\\begin{tabular}{r|lllllllllllllllllllllll}\n",
       " Animal & Corte & Grupo & Region & Foreground.pixels.by.hull.area & Hull.Area & Diameter.of.Bounding.Circle & Mean.Radius & Cell.Area & Cell.Perimeter & ... & Hull.void.area & Branches & Junctions & End.point.voxels & Triple.points & Quadruple.points & Average.branch.length & Maximum.branch.length & D & Lacunarity\\\\\n",
       "\\hline\n",
       "\t CS2      & 1        & CS       & CA1      & 0.5968   & 2282     &  74.9667 & 31.5814  & 1362     & 344.416  & ...      &  920     & 15       &  7       &  9       &  7       & 0        & 13.283   & 29.556   & 1140     &  801    \\\\\n",
       "\t CS2      & 1        & CS       & CA1      & 0.8191   &  376     &  32.8571 & 14.7844  &  308     &  91.983  & ...      &   68     &  3       &  1       &  3       &  1       & 0        & 13.876   & 22.142   &   41     & 1246    \\\\\n",
       "\t CS2      & 1        & CS       & CA1      & 0.4057   & 2036     &  78.4092 & 32.8051  &  826     & 246.635  & ...      & 1210     &  7       &  3       &  5       &  3       & 0        & 17.840   & 34.627   &   87     & 1271    \\\\\n",
       "\t CS2      & 1        & CS       & CA1      & 0.4576   & 2380     &  69.3097 & 30.9999  & 1089     & 341.061  & ...      & 1291     & 20       & 11       &  7       & 11       & 0        & 10.674   & 27.385   &  429     & 1659    \\\\\n",
       "\t CS2      & 1        & CS       & CA1      & 0.4241   & 2457     &  70.9627 & 32.7330  & 1042     & 371.588  & ...      & 1415     & 18       &  9       &  9       &  9       & 0        & 12.222   & 20.071   &  585     & 1452    \\\\\n",
       "\t CS2      & 1        & CS       & CA1      & 0.2993   & 5362     & 119.4364 & 50.7948  & 1605     & 709.720  & ...      & 3757     & 40       & 19       & 20       & 17       & 1        & 10.588   & 31.799   &  538     & 1596    \\\\\n",
       "\\end{tabular}\n"
      ],
      "text/markdown": [
       "\n",
       "| Animal | Corte | Grupo | Region | Foreground.pixels.by.hull.area | Hull.Area | Diameter.of.Bounding.Circle | Mean.Radius | Cell.Area | Cell.Perimeter | ... | Hull.void.area | Branches | Junctions | End.point.voxels | Triple.points | Quadruple.points | Average.branch.length | Maximum.branch.length | D | Lacunarity |\n",
       "|---|---|---|---|---|---|---|---|---|---|---|---|---|---|---|---|---|---|---|---|---|\n",
       "| CS2      | 1        | CS       | CA1      | 0.5968   | 2282     |  74.9667 | 31.5814  | 1362     | 344.416  | ...      |  920     | 15       |  7       |  9       |  7       | 0        | 13.283   | 29.556   | 1140     |  801     |\n",
       "| CS2      | 1        | CS       | CA1      | 0.8191   |  376     |  32.8571 | 14.7844  |  308     |  91.983  | ...      |   68     |  3       |  1       |  3       |  1       | 0        | 13.876   | 22.142   |   41     | 1246     |\n",
       "| CS2      | 1        | CS       | CA1      | 0.4057   | 2036     |  78.4092 | 32.8051  |  826     | 246.635  | ...      | 1210     |  7       |  3       |  5       |  3       | 0        | 17.840   | 34.627   |   87     | 1271     |\n",
       "| CS2      | 1        | CS       | CA1      | 0.4576   | 2380     |  69.3097 | 30.9999  | 1089     | 341.061  | ...      | 1291     | 20       | 11       |  7       | 11       | 0        | 10.674   | 27.385   |  429     | 1659     |\n",
       "| CS2      | 1        | CS       | CA1      | 0.4241   | 2457     |  70.9627 | 32.7330  | 1042     | 371.588  | ...      | 1415     | 18       |  9       |  9       |  9       | 0        | 12.222   | 20.071   |  585     | 1452     |\n",
       "| CS2      | 1        | CS       | CA1      | 0.2993   | 5362     | 119.4364 | 50.7948  | 1605     | 709.720  | ...      | 3757     | 40       | 19       | 20       | 17       | 1        | 10.588   | 31.799   |  538     | 1596     |\n",
       "\n"
      ],
      "text/plain": [
       "  Animal Corte Grupo Region Foreground.pixels.by.hull.area Hull.Area\n",
       "1 CS2    1     CS    CA1    0.5968                         2282     \n",
       "2 CS2    1     CS    CA1    0.8191                          376     \n",
       "3 CS2    1     CS    CA1    0.4057                         2036     \n",
       "4 CS2    1     CS    CA1    0.4576                         2380     \n",
       "5 CS2    1     CS    CA1    0.4241                         2457     \n",
       "6 CS2    1     CS    CA1    0.2993                         5362     \n",
       "  Diameter.of.Bounding.Circle Mean.Radius Cell.Area Cell.Perimeter ...\n",
       "1  74.9667                    31.5814     1362      344.416        ...\n",
       "2  32.8571                    14.7844      308       91.983        ...\n",
       "3  78.4092                    32.8051      826      246.635        ...\n",
       "4  69.3097                    30.9999     1089      341.061        ...\n",
       "5  70.9627                    32.7330     1042      371.588        ...\n",
       "6 119.4364                    50.7948     1605      709.720        ...\n",
       "  Hull.void.area Branches Junctions End.point.voxels Triple.points\n",
       "1  920           15        7         9                7           \n",
       "2   68            3        1         3                1           \n",
       "3 1210            7        3         5                3           \n",
       "4 1291           20       11         7               11           \n",
       "5 1415           18        9         9                9           \n",
       "6 3757           40       19        20               17           \n",
       "  Quadruple.points Average.branch.length Maximum.branch.length D    Lacunarity\n",
       "1 0                13.283                29.556                1140  801      \n",
       "2 0                13.876                22.142                  41 1246      \n",
       "3 0                17.840                34.627                  87 1271      \n",
       "4 0                10.674                27.385                 429 1659      \n",
       "5 0                12.222                20.071                 585 1452      \n",
       "6 1                10.588                31.799                 538 1596      "
      ]
     },
     "metadata": {},
     "output_type": "display_data"
    }
   ],
   "source": [
    "head(data)"
   ]
  },
  {
   "cell_type": "markdown",
   "id": "ce164777",
   "metadata": {},
   "source": [
    "**Session Info**"
   ]
  },
  {
   "cell_type": "code",
   "execution_count": 36,
   "id": "9e3d760b",
   "metadata": {},
   "outputs": [
    {
     "data": {
      "text/plain": [
       "R version 3.6.1 (2019-07-05)\n",
       "Platform: x86_64-conda_cos6-linux-gnu (64-bit)\n",
       "Running under: Linux Mint 20.2\n",
       "\n",
       "Matrix products: default\n",
       "BLAS/LAPACK: /home/caio/miniconda3/envs/r-jupyter/lib/R/lib/libRblas.so\n",
       "\n",
       "locale:\n",
       " [1] LC_CTYPE=en_US.UTF-8       LC_NUMERIC=C              \n",
       " [3] LC_TIME=en_US.UTF-8        LC_COLLATE=en_US.UTF-8    \n",
       " [5] LC_MONETARY=pt_BR.UTF-8    LC_MESSAGES=en_US.UTF-8   \n",
       " [7] LC_PAPER=pt_BR.UTF-8       LC_NAME=C                 \n",
       " [9] LC_ADDRESS=C               LC_TELEPHONE=C            \n",
       "[11] LC_MEASUREMENT=pt_BR.UTF-8 LC_IDENTIFICATION=C       \n",
       "\n",
       "attached base packages:\n",
       "[1] stats     graphics  grDevices utils     datasets  methods   base     \n",
       "\n",
       "other attached packages:\n",
       "[1] forcats_0.4.0   stringr_1.4.0   dplyr_0.8.0.1   purrr_0.3.2    \n",
       "[5] readr_1.3.1     tidyr_0.8.3     tibble_2.1.1    ggplot2_3.1.1  \n",
       "[9] tidyverse_1.2.1\n",
       "\n",
       "loaded via a namespace (and not attached):\n",
       " [1] Rcpp_1.0.1       cellranger_1.1.0 plyr_1.8.4       pillar_1.3.1    \n",
       " [5] compiler_3.6.1   base64enc_0.1-3  tools_3.6.1      digest_0.6.18   \n",
       " [9] uuid_0.1-2       lubridate_1.7.4  jsonlite_1.6     evaluate_0.13   \n",
       "[13] nlme_3.1-139     gtable_0.3.0     lattice_0.20-38  pkgconfig_2.0.2 \n",
       "[17] rlang_0.3.4      cli_1.1.0        rstudioapi_0.10  IRdisplay_0.7.0 \n",
       "[21] IRkernel_0.8.15  haven_2.1.0      withr_2.1.2      xml2_1.2.0      \n",
       "[25] httr_1.4.0       repr_0.19.2      hms_0.4.2        generics_0.0.2  \n",
       "[29] grid_3.6.1       tidyselect_0.2.5 glue_1.3.1       R6_2.4.0        \n",
       "[33] readxl_1.3.1     pbdZMQ_0.3-3     modelr_0.1.4     magrittr_1.5    \n",
       "[37] backports_1.1.4  scales_1.0.0     htmltools_0.3.6  rvest_0.3.3     \n",
       "[41] assertthat_0.2.1 colorspace_1.4-1 stringi_1.4.3    lazyeval_0.2.2  \n",
       "[45] munsell_0.5.0    broom_0.5.2      crayon_1.3.4    "
      ]
     },
     "metadata": {},
     "output_type": "display_data"
    }
   ],
   "source": [
    "# adicionar session info for reprodutibility\n",
    "sessionInfo()"
   ]
  }
 ],
 "metadata": {
  "kernelspec": {
   "display_name": "R",
   "language": "R",
   "name": "ir"
  },
  "language_info": {
   "codemirror_mode": "r",
   "file_extension": ".r",
   "mimetype": "text/x-r-source",
   "name": "R",
   "pygments_lexer": "r",
   "version": "3.6.1"
  }
 },
 "nbformat": 4,
 "nbformat_minor": 5
}
